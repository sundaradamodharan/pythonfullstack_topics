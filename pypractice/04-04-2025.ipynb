{
 "cells": [
  {
   "cell_type": "code",
   "execution_count": null,
   "id": "889b2922-d9f1-428c-9c54-115093369c73",
   "metadata": {},
   "outputs": [],
   "source": [
    "#04-04-2025"
   ]
  },
  {
   "cell_type": "code",
   "execution_count": 2,
   "id": "b8e0fff8-cb46-42c5-b94f-a63c53eb9ffd",
   "metadata": {},
   "outputs": [
    {
     "name": "stdout",
     "output_type": "stream",
     "text": [
      "True\n",
      "True\n",
      "True\n"
     ]
    }
   ],
   "source": [
    "a=10\n",
    "b=10\n",
    "print(a is b)\n",
    "print(a==b)\n",
    "print(id(a)==id(b))\n"
   ]
  },
  {
   "cell_type": "code",
   "execution_count": 3,
   "id": "6bbcf0af-03bf-42cd-8ddb-36e0fb14c5ba",
   "metadata": {},
   "outputs": [
    {
     "name": "stdin",
     "output_type": "stream",
     "text": [
      " 12\n",
      " 12\n",
      " 12\n"
     ]
    },
    {
     "name": "stdout",
     "output_type": "stream",
     "text": [
      "<class 'str'>\n",
      "<class 'int'>\n",
      "<class 'int'>\n"
     ]
    }
   ],
   "source": [
    "a=input()\n",
    "b=int(input())\n",
    "c=eval(input())\n",
    "print(type(a))\n",
    "print(type(b))\n",
    "print(type(c))"
   ]
  },
  {
   "cell_type": "code",
   "execution_count": 6,
   "id": "cc671e81-0db4-42dd-b674-9ca55041898e",
   "metadata": {},
   "outputs": [
    {
     "name": "stdin",
     "output_type": "stream",
     "text": [
      " sunda\n",
      " 'sunda'\n"
     ]
    },
    {
     "name": "stdout",
     "output_type": "stream",
     "text": [
      "<class 'str'>\n",
      "<class 'str'>\n"
     ]
    }
   ],
   "source": [
    "a=input()\n",
    "c=eval(input())\n",
    "print(type(a))\n",
    "print(type(c))"
   ]
  },
  {
   "cell_type": "code",
   "execution_count": 9,
   "id": "d2edea97-1416-431a-9b5f-8698f23dc0a3",
   "metadata": {},
   "outputs": [
    {
     "name": "stdout",
     "output_type": "stream",
     "text": [
      "22\n",
      "0b10110\n"
     ]
    }
   ],
   "source": [
    "a=22.0002\n",
    "a=int(a)\n",
    "print(a)\n",
    "print(bin(a))"
   ]
  },
  {
   "cell_type": "code",
   "execution_count": 13,
   "id": "a954f405-07e7-4327-a08e-89117b3d5d67",
   "metadata": {},
   "outputs": [
    {
     "name": "stdout",
     "output_type": "stream",
     "text": [
      "True\n",
      "True\n",
      "True\n",
      "True\n",
      "140709360632968\n",
      "140709360632968\n",
      "140709360632968\n",
      "140709360632968\n",
      "\n",
      "False\n",
      "False\n",
      "True\n",
      "True\n",
      "2350527215104\n",
      "2350527214912\n",
      "2350527215104\n",
      "2350527214912\n"
     ]
    }
   ],
   "source": [
    "a=8\n",
    "b=8\n",
    "c=a\n",
    "d=b\n",
    "print(a is b)\n",
    "print(c is d)\n",
    "print(c==d)\n",
    "print(a==b)\n",
    "print(id(a))\n",
    "print(id(b))\n",
    "print(id(c))\n",
    "print(id(d))\n",
    "print()\n",
    "l1=[23,24,25,26]\n",
    "l2=[23,24,25,26]\n",
    "l3=l1\n",
    "l4=l2\n",
    "print(l1 is l2)\n",
    "print(l3 is l4)\n",
    "print(l1==l2)\n",
    "print(l3==l4)\n",
    "print(id(l1))\n",
    "print(id(l2))\n",
    "print(id(l3))\n",
    "print(id(l4))\n"
   ]
  },
  {
   "cell_type": "code",
   "execution_count": 38,
   "id": "055fe5d1-da1c-4a03-ae86-0f0ab477a12e",
   "metadata": {},
   "outputs": [
    {
     "name": "stdout",
     "output_type": "stream",
     "text": [
      "10\n",
      "11\n",
      "12\n",
      "13\n",
      "14\n",
      "15\n",
      "16\n",
      "17\n",
      "18\n",
      "19\n"
     ]
    }
   ],
   "source": [
    "for  i in range(10,20):\n",
    "    print(i)"
   ]
  },
  {
   "cell_type": "code",
   "execution_count": 41,
   "id": "76d993ff-0d6d-4a81-9edd-fbb21e24fd8c",
   "metadata": {},
   "outputs": [
    {
     "name": "stdin",
     "output_type": "stream",
     "text": [
      " 1000\n"
     ]
    },
    {
     "name": "stdout",
     "output_type": "stream",
     "text": [
      "correct bha \n"
     ]
    }
   ],
   "source": [
    "a=int(input())\n",
    "while a==1000:\n",
    "    print(\"correct bha \")\n",
    "    a+=1"
   ]
  },
  {
   "cell_type": "code",
   "execution_count": 50,
   "id": "729e1ac5-4fab-498a-a281-e63711d2e76e",
   "metadata": {},
   "outputs": [
    {
     "name": "stdin",
     "output_type": "stream",
     "text": [
      "Enter your DOB in DD-MM-YYYY format: 12-12-2002\n",
      "Enter current date in DD-MM-YYYY format:  12-12-2025\n"
     ]
    },
    {
     "name": "stdout",
     "output_type": "stream",
     "text": [
      "un age is 23 ithukooda therla \n"
     ]
    }
   ],
   "source": [
    "#age cal\n",
    "a=input(\"Enter your DOB in DD-MM-YYYY format:\")\n",
    "b=input(\"Enter current date in DD-MM-YYYY format:\")\n",
    "c=int(a[-4:])\n",
    "d=int(b[-4:])\n",
    "age=d-c\n",
    "print(f\"un age is {age} ithukooda therla \")\n"
   ]
  },
  {
   "cell_type": "code",
   "execution_count": 54,
   "id": "0354057a-f356-4006-ad84-528c457afbb0",
   "metadata": {},
   "outputs": [
    {
     "name": "stdin",
     "output_type": "stream",
     "text": [
      "Enter your DOB in DD-MM-YYYY format: 04-09-2002\n",
      "Enter current date in DD-MM-YYYY format: 04-04-2025\n"
     ]
    },
    {
     "name": "stdout",
     "output_type": "stream",
     "text": [
      "un age is 23 yrs and ur -5 mnt finally 0 day old\n"
     ]
    }
   ],
   "source": [
    "a=input(\"Enter your DOB in DD-MM-YYYY format:\")\n",
    "b=input(\"Enter current date in DD-MM-YYYY format:\")\n",
    "c=int(a[-4:])\n",
    "d=int(b[-4:])\n",
    "e=int(a[-7:-5])\n",
    "f=int(b[-7:-5])\n",
    "g=int(a[-10:-8])\n",
    "h=int(b[-10:-8])\n",
    "month=f-e\n",
    "days=h-g\n",
    "years=d-c\n",
    "print(f\"un age is {years} yrs and ur {month} mnt finally {days} day old\")\n"
   ]
  }
 ],
 "metadata": {
  "kernelspec": {
   "display_name": "Python 3 (ipykernel)",
   "language": "python",
   "name": "python3"
  },
  "language_info": {
   "codemirror_mode": {
    "name": "ipython",
    "version": 3
   },
   "file_extension": ".py",
   "mimetype": "text/x-python",
   "name": "python",
   "nbconvert_exporter": "python",
   "pygments_lexer": "ipython3",
   "version": "3.13.2"
  }
 },
 "nbformat": 4,
 "nbformat_minor": 5
}
